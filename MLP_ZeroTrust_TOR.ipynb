{
  "nbformat": 4,
  "nbformat_minor": 0,
  "metadata": {
    "colab": {
      "name": "MLP_ZeroTrust_TOR.ipynb",
      "provenance": [],
      "authorship_tag": "ABX9TyO13OqdpW4HGvCDMj8oyIbc",
      "include_colab_link": true
    },
    "kernelspec": {
      "name": "python3",
      "display_name": "Python 3"
    },
    "language_info": {
      "name": "python"
    },
    "accelerator": "GPU",
    "gpuClass": "standard"
  },
  "cells": [
    {
      "cell_type": "markdown",
      "metadata": {
        "id": "view-in-github",
        "colab_type": "text"
      },
      "source": [
        "<a href=\"https://colab.research.google.com/github/lucascruz/ufpb/blob/main/MLP_ZeroTrust_TOR.ipynb\" target=\"_parent\"><img src=\"https://colab.research.google.com/assets/colab-badge.svg\" alt=\"Open In Colab\"/></a>"
      ]
    },
    {
      "cell_type": "markdown",
      "source": [
        ""
      ],
      "metadata": {
        "id": "Rws73i6xieD3"
      }
    },
    {
      "cell_type": "markdown",
      "source": [
        "#Zero Trust e Analise trafego.\n",
        "\n",
        "Aluno: Lucas da Silva Cruz\n",
        "\n",
        "Professor: Tiago Maritan Ugulino de Araujo\n",
        "\n",
        "\n",
        "\n",
        "---\n",
        "\n",
        "\n",
        "Problemática:\n",
        "\n",
        "Confiança Zero fornece uma coleção de conceitos e ideias projetadas para mitigar incertezas quando se necessita aplicar decisões de acesso por solicitação de privilégio mínimo perante uma rede considerada insegura.\n",
        "\n",
        "Ela é vista como um plano de segurança e sendo assim ocorre a necessidade de gerar alertas para unidades que controla as decisões para oferta de maiores açoes frente a ações nocivas como por exemplo gera possilidade de identificar trafego malicioso a rede em tempo real.\n",
        "\n",
        "\n",
        "---\n",
        "\n",
        "Solução em debate:\n",
        "\n",
        "Com base em estudo anterior [4] que se valeu do uso de modelo de regressão logística que tem por foco estima a probabilidade de ocorrência de um evento, como voto ou não voto, com base em um determinado conjunto de dados de variáveis ​​independentes a presente atividade se proproe a comparar se utilizando do mesmo \"DATASET\" gerado pela ações de limpeza de dados do estudo anterior e a aplicar o modelo MLP para comparar os conhecimento gerado.\n",
        "\n",
        "---\n",
        "\n",
        "Proposta para futuros trabalhos e a abordagem de levantar informação de falsos positivos que possa ocorrer estando em ambiente que utiliza o modelo confiança zero."
      ],
      "metadata": {
        "id": "9henbfDnjeuV"
      }
    },
    {
      "cell_type": "markdown",
      "source": [
        "#Tor e Non-Tor - MLP\n"
      ],
      "metadata": {
        "id": "f1fbRa0O8Wfs"
      }
    },
    {
      "cell_type": "markdown",
      "metadata": {
        "id": "Un27eWjiNVnd"
      },
      "source": [
        "# Data Source\n",
        "ORIGINAL DATASET: DarkNet 2020 dataset from the Canadian Institute for Cybersecurity at the University of New Brunswick\n",
        "\n",
        "DATASET: Data Preparation by Amie Davis Zero_Trust - A machine learning case study for supervised binary classification. \n",
        "\n",
        "\n",
        "*Foi utilizado o mesmo dataset preparado anteriormente por Amie Davis para efeito de comparação com o novo modelo proposto usando MLP em vez de Regressão Logística.*"
      ]
    },
    {
      "cell_type": "code",
      "execution_count": 2,
      "metadata": {
        "colab": {
          "base_uri": "https://localhost:8080/",
          "height": 334
        },
        "id": "S1msc_ui5T9L",
        "outputId": "de4d013f-ee12-4477-9d57-f0caa058e699"
      },
      "outputs": [
        {
          "output_type": "execute_result",
          "data": {
            "text/plain": [
              "   Src Port  Dst Port  Protocol  Flow Duration  Total Fwd Packet  \\\n",
              "0     57158       443         6            229                 1   \n",
              "1     57159       443         6            407                 1   \n",
              "2     57160       443         6            431                 1   \n",
              "3     49134       443         6            359                 1   \n",
              "4     34697     19305         6       10778451               591   \n",
              "\n",
              "   Total Bwd packets  Flow Packets  Flow IAT Mean  Flow IAT Std  Flow IAT Min  \\\n",
              "0                  1   8733.624454      229.00000       0.00000           229   \n",
              "1                  1   4914.004914      407.00000       0.00000           407   \n",
              "2                  1   4640.371230      431.00000       0.00000           431   \n",
              "3                  1   5571.030641      359.00000       0.00000           359   \n",
              "4                400     91.942711    10887.32424   11412.46641            13   \n",
              "\n",
              "   ...  dst_ip_host  Audio-Streaming  Browsing  Chat  Email  File-Transfer  \\\n",
              "0  ...           99                1         0     0      0              0   \n",
              "1  ...           99                1         0     0      0              0   \n",
              "2  ...           99                1         0     0      0              0   \n",
              "3  ...          120                1         0     0      0              0   \n",
              "4  ...          127                1         0     0      0              0   \n",
              "\n",
              "   P2P  VOIP  Video-Streaming  tor_indicator  \n",
              "0    0     0                0              0  \n",
              "1    0     0                0              0  \n",
              "2    0     0                0              0  \n",
              "3    0     0                0              0  \n",
              "4    0     0                0              0  \n",
              "\n",
              "[5 rows x 35 columns]"
            ],
            "text/html": [
              "\n",
              "  <div id=\"df-86268d48-d14c-44e0-93a0-1fe0bb9a304a\">\n",
              "    <div class=\"colab-df-container\">\n",
              "      <div>\n",
              "<style scoped>\n",
              "    .dataframe tbody tr th:only-of-type {\n",
              "        vertical-align: middle;\n",
              "    }\n",
              "\n",
              "    .dataframe tbody tr th {\n",
              "        vertical-align: top;\n",
              "    }\n",
              "\n",
              "    .dataframe thead th {\n",
              "        text-align: right;\n",
              "    }\n",
              "</style>\n",
              "<table border=\"1\" class=\"dataframe\">\n",
              "  <thead>\n",
              "    <tr style=\"text-align: right;\">\n",
              "      <th></th>\n",
              "      <th>Src Port</th>\n",
              "      <th>Dst Port</th>\n",
              "      <th>Protocol</th>\n",
              "      <th>Flow Duration</th>\n",
              "      <th>Total Fwd Packet</th>\n",
              "      <th>Total Bwd packets</th>\n",
              "      <th>Flow Packets</th>\n",
              "      <th>Flow IAT Mean</th>\n",
              "      <th>Flow IAT Std</th>\n",
              "      <th>Flow IAT Min</th>\n",
              "      <th>...</th>\n",
              "      <th>dst_ip_host</th>\n",
              "      <th>Audio-Streaming</th>\n",
              "      <th>Browsing</th>\n",
              "      <th>Chat</th>\n",
              "      <th>Email</th>\n",
              "      <th>File-Transfer</th>\n",
              "      <th>P2P</th>\n",
              "      <th>VOIP</th>\n",
              "      <th>Video-Streaming</th>\n",
              "      <th>tor_indicator</th>\n",
              "    </tr>\n",
              "  </thead>\n",
              "  <tbody>\n",
              "    <tr>\n",
              "      <th>0</th>\n",
              "      <td>57158</td>\n",
              "      <td>443</td>\n",
              "      <td>6</td>\n",
              "      <td>229</td>\n",
              "      <td>1</td>\n",
              "      <td>1</td>\n",
              "      <td>8733.624454</td>\n",
              "      <td>229.00000</td>\n",
              "      <td>0.00000</td>\n",
              "      <td>229</td>\n",
              "      <td>...</td>\n",
              "      <td>99</td>\n",
              "      <td>1</td>\n",
              "      <td>0</td>\n",
              "      <td>0</td>\n",
              "      <td>0</td>\n",
              "      <td>0</td>\n",
              "      <td>0</td>\n",
              "      <td>0</td>\n",
              "      <td>0</td>\n",
              "      <td>0</td>\n",
              "    </tr>\n",
              "    <tr>\n",
              "      <th>1</th>\n",
              "      <td>57159</td>\n",
              "      <td>443</td>\n",
              "      <td>6</td>\n",
              "      <td>407</td>\n",
              "      <td>1</td>\n",
              "      <td>1</td>\n",
              "      <td>4914.004914</td>\n",
              "      <td>407.00000</td>\n",
              "      <td>0.00000</td>\n",
              "      <td>407</td>\n",
              "      <td>...</td>\n",
              "      <td>99</td>\n",
              "      <td>1</td>\n",
              "      <td>0</td>\n",
              "      <td>0</td>\n",
              "      <td>0</td>\n",
              "      <td>0</td>\n",
              "      <td>0</td>\n",
              "      <td>0</td>\n",
              "      <td>0</td>\n",
              "      <td>0</td>\n",
              "    </tr>\n",
              "    <tr>\n",
              "      <th>2</th>\n",
              "      <td>57160</td>\n",
              "      <td>443</td>\n",
              "      <td>6</td>\n",
              "      <td>431</td>\n",
              "      <td>1</td>\n",
              "      <td>1</td>\n",
              "      <td>4640.371230</td>\n",
              "      <td>431.00000</td>\n",
              "      <td>0.00000</td>\n",
              "      <td>431</td>\n",
              "      <td>...</td>\n",
              "      <td>99</td>\n",
              "      <td>1</td>\n",
              "      <td>0</td>\n",
              "      <td>0</td>\n",
              "      <td>0</td>\n",
              "      <td>0</td>\n",
              "      <td>0</td>\n",
              "      <td>0</td>\n",
              "      <td>0</td>\n",
              "      <td>0</td>\n",
              "    </tr>\n",
              "    <tr>\n",
              "      <th>3</th>\n",
              "      <td>49134</td>\n",
              "      <td>443</td>\n",
              "      <td>6</td>\n",
              "      <td>359</td>\n",
              "      <td>1</td>\n",
              "      <td>1</td>\n",
              "      <td>5571.030641</td>\n",
              "      <td>359.00000</td>\n",
              "      <td>0.00000</td>\n",
              "      <td>359</td>\n",
              "      <td>...</td>\n",
              "      <td>120</td>\n",
              "      <td>1</td>\n",
              "      <td>0</td>\n",
              "      <td>0</td>\n",
              "      <td>0</td>\n",
              "      <td>0</td>\n",
              "      <td>0</td>\n",
              "      <td>0</td>\n",
              "      <td>0</td>\n",
              "      <td>0</td>\n",
              "    </tr>\n",
              "    <tr>\n",
              "      <th>4</th>\n",
              "      <td>34697</td>\n",
              "      <td>19305</td>\n",
              "      <td>6</td>\n",
              "      <td>10778451</td>\n",
              "      <td>591</td>\n",
              "      <td>400</td>\n",
              "      <td>91.942711</td>\n",
              "      <td>10887.32424</td>\n",
              "      <td>11412.46641</td>\n",
              "      <td>13</td>\n",
              "      <td>...</td>\n",
              "      <td>127</td>\n",
              "      <td>1</td>\n",
              "      <td>0</td>\n",
              "      <td>0</td>\n",
              "      <td>0</td>\n",
              "      <td>0</td>\n",
              "      <td>0</td>\n",
              "      <td>0</td>\n",
              "      <td>0</td>\n",
              "      <td>0</td>\n",
              "    </tr>\n",
              "  </tbody>\n",
              "</table>\n",
              "<p>5 rows × 35 columns</p>\n",
              "</div>\n",
              "      <button class=\"colab-df-convert\" onclick=\"convertToInteractive('df-86268d48-d14c-44e0-93a0-1fe0bb9a304a')\"\n",
              "              title=\"Convert this dataframe to an interactive table.\"\n",
              "              style=\"display:none;\">\n",
              "        \n",
              "  <svg xmlns=\"http://www.w3.org/2000/svg\" height=\"24px\"viewBox=\"0 0 24 24\"\n",
              "       width=\"24px\">\n",
              "    <path d=\"M0 0h24v24H0V0z\" fill=\"none\"/>\n",
              "    <path d=\"M18.56 5.44l.94 2.06.94-2.06 2.06-.94-2.06-.94-.94-2.06-.94 2.06-2.06.94zm-11 1L8.5 8.5l.94-2.06 2.06-.94-2.06-.94L8.5 2.5l-.94 2.06-2.06.94zm10 10l.94 2.06.94-2.06 2.06-.94-2.06-.94-.94-2.06-.94 2.06-2.06.94z\"/><path d=\"M17.41 7.96l-1.37-1.37c-.4-.4-.92-.59-1.43-.59-.52 0-1.04.2-1.43.59L10.3 9.45l-7.72 7.72c-.78.78-.78 2.05 0 2.83L4 21.41c.39.39.9.59 1.41.59.51 0 1.02-.2 1.41-.59l7.78-7.78 2.81-2.81c.8-.78.8-2.07 0-2.86zM5.41 20L4 18.59l7.72-7.72 1.47 1.35L5.41 20z\"/>\n",
              "  </svg>\n",
              "      </button>\n",
              "      \n",
              "  <style>\n",
              "    .colab-df-container {\n",
              "      display:flex;\n",
              "      flex-wrap:wrap;\n",
              "      gap: 12px;\n",
              "    }\n",
              "\n",
              "    .colab-df-convert {\n",
              "      background-color: #E8F0FE;\n",
              "      border: none;\n",
              "      border-radius: 50%;\n",
              "      cursor: pointer;\n",
              "      display: none;\n",
              "      fill: #1967D2;\n",
              "      height: 32px;\n",
              "      padding: 0 0 0 0;\n",
              "      width: 32px;\n",
              "    }\n",
              "\n",
              "    .colab-df-convert:hover {\n",
              "      background-color: #E2EBFA;\n",
              "      box-shadow: 0px 1px 2px rgba(60, 64, 67, 0.3), 0px 1px 3px 1px rgba(60, 64, 67, 0.15);\n",
              "      fill: #174EA6;\n",
              "    }\n",
              "\n",
              "    [theme=dark] .colab-df-convert {\n",
              "      background-color: #3B4455;\n",
              "      fill: #D2E3FC;\n",
              "    }\n",
              "\n",
              "    [theme=dark] .colab-df-convert:hover {\n",
              "      background-color: #434B5C;\n",
              "      box-shadow: 0px 1px 3px 1px rgba(0, 0, 0, 0.15);\n",
              "      filter: drop-shadow(0px 1px 2px rgba(0, 0, 0, 0.3));\n",
              "      fill: #FFFFFF;\n",
              "    }\n",
              "  </style>\n",
              "\n",
              "      <script>\n",
              "        const buttonEl =\n",
              "          document.querySelector('#df-86268d48-d14c-44e0-93a0-1fe0bb9a304a button.colab-df-convert');\n",
              "        buttonEl.style.display =\n",
              "          google.colab.kernel.accessAllowed ? 'block' : 'none';\n",
              "\n",
              "        async function convertToInteractive(key) {\n",
              "          const element = document.querySelector('#df-86268d48-d14c-44e0-93a0-1fe0bb9a304a');\n",
              "          const dataTable =\n",
              "            await google.colab.kernel.invokeFunction('convertToInteractive',\n",
              "                                                     [key], {});\n",
              "          if (!dataTable) return;\n",
              "\n",
              "          const docLinkHtml = 'Like what you see? Visit the ' +\n",
              "            '<a target=\"_blank\" href=https://colab.research.google.com/notebooks/data_table.ipynb>data table notebook</a>'\n",
              "            + ' to learn more about interactive tables.';\n",
              "          element.innerHTML = '';\n",
              "          dataTable['output_type'] = 'display_data';\n",
              "          await google.colab.output.renderOutput(dataTable, element);\n",
              "          const docLink = document.createElement('div');\n",
              "          docLink.innerHTML = docLinkHtml;\n",
              "          element.appendChild(docLink);\n",
              "        }\n",
              "      </script>\n",
              "    </div>\n",
              "  </div>\n",
              "  "
            ]
          },
          "metadata": {},
          "execution_count": 2
        }
      ],
      "source": [
        "import pandas as pd\n",
        "\n",
        "dataset = pd.read_csv('Data_cleaned_data.csv')\n",
        "dataset.head()"
      ]
    },
    {
      "cell_type": "code",
      "source": [
        "dataset.describe()"
      ],
      "metadata": {
        "colab": {
          "base_uri": "https://localhost:8080/",
          "height": 411
        },
        "id": "nSz0m6GT8Bsk",
        "outputId": "edd634db-d8f7-49d5-bb58-43c0d833c87c"
      },
      "execution_count": 2,
      "outputs": [
        {
          "output_type": "execute_result",
          "data": {
            "text/plain": [
              "           Src Port      Dst Port      Protocol  Flow Duration  \\\n",
              "count  94748.000000  94748.000000  94748.000000   9.474800e+04   \n",
              "mean   38491.592910  23329.584878      8.498216   2.334172e+07   \n",
              "std    18384.534002  23287.997612      4.622047   3.928250e+07   \n",
              "min        0.000000      0.000000      0.000000   0.000000e+00   \n",
              "25%    34117.000000     80.000000      6.000000   5.584500e+04   \n",
              "50%    43444.000000  14363.000000      6.000000   8.035165e+05   \n",
              "75%    52299.000000  48654.000000      6.000000   1.831178e+07   \n",
              "max    65533.000000  65535.000000     17.000000   1.200000e+08   \n",
              "\n",
              "       Total Fwd Packet  Total Bwd packets  Flow Packets  Flow IAT Mean  \\\n",
              "count      94748.000000       94748.000000  9.474800e+04   9.474800e+04   \n",
              "mean         146.747573         129.187423  2.373881e+04   2.741408e+06   \n",
              "std         1896.154058        1491.077454  4.479391e+05   6.954931e+06   \n",
              "min            1.000000           0.000000  1.666877e-02   0.000000e+00   \n",
              "25%            2.000000           0.000000  3.740367e-01   1.473200e+04   \n",
              "50%            3.000000           2.000000  5.871474e+00   2.600740e+05   \n",
              "75%            5.000000           4.000000  9.231133e+01   2.945648e+06   \n",
              "max       113960.000000       81630.000000  2.000000e+07   1.199849e+08   \n",
              "\n",
              "       Flow IAT Std  Flow IAT Min  ...   dst_ip_host  Audio-Streaming  \\\n",
              "count  9.474800e+04  9.474800e+04  ...  94748.000000     94748.000000   \n",
              "mean   3.665004e+06  8.611733e+05  ...     88.507641         0.018027   \n",
              "std    7.851204e+06  5.494257e+06  ...     79.073678         0.133049   \n",
              "min    0.000000e+00 -2.255000e+03  ...      0.000000         0.000000   \n",
              "25%    0.000000e+00  1.200000e+01  ...     11.000000         0.000000   \n",
              "50%    2.325698e+05  3.500000e+01  ...     66.000000         0.000000   \n",
              "75%    3.145184e+06  1.429000e+03  ...    157.000000         0.000000   \n",
              "max    8.059627e+07  1.199849e+08  ...    255.000000         1.000000   \n",
              "\n",
              "           Browsing          Chat         Email  File-Transfer           P2P  \\\n",
              "count  94748.000000  94748.000000  94748.000000   94748.000000  94748.000000   \n",
              "mean       0.346266      0.005045      0.005330       0.072265      0.512095   \n",
              "std        0.475782      0.070849      0.072812       0.258928      0.499856   \n",
              "min        0.000000      0.000000      0.000000       0.000000      0.000000   \n",
              "25%        0.000000      0.000000      0.000000       0.000000      0.000000   \n",
              "50%        0.000000      0.000000      0.000000       0.000000      1.000000   \n",
              "75%        1.000000      0.000000      0.000000       0.000000      1.000000   \n",
              "max        1.000000      1.000000      1.000000       1.000000      1.000000   \n",
              "\n",
              "               VOIP  Video-Streaming  tor_indicator  \n",
              "count  94748.000000     94748.000000   94748.000000  \n",
              "mean       0.003145         0.037827       0.014692  \n",
              "std        0.055994         0.190778       0.120316  \n",
              "min        0.000000         0.000000       0.000000  \n",
              "25%        0.000000         0.000000       0.000000  \n",
              "50%        0.000000         0.000000       0.000000  \n",
              "75%        0.000000         0.000000       0.000000  \n",
              "max        1.000000         1.000000       1.000000  \n",
              "\n",
              "[8 rows x 35 columns]"
            ],
            "text/html": [
              "\n",
              "  <div id=\"df-832f630b-e272-41e1-a8a7-14ed34fd953b\">\n",
              "    <div class=\"colab-df-container\">\n",
              "      <div>\n",
              "<style scoped>\n",
              "    .dataframe tbody tr th:only-of-type {\n",
              "        vertical-align: middle;\n",
              "    }\n",
              "\n",
              "    .dataframe tbody tr th {\n",
              "        vertical-align: top;\n",
              "    }\n",
              "\n",
              "    .dataframe thead th {\n",
              "        text-align: right;\n",
              "    }\n",
              "</style>\n",
              "<table border=\"1\" class=\"dataframe\">\n",
              "  <thead>\n",
              "    <tr style=\"text-align: right;\">\n",
              "      <th></th>\n",
              "      <th>Src Port</th>\n",
              "      <th>Dst Port</th>\n",
              "      <th>Protocol</th>\n",
              "      <th>Flow Duration</th>\n",
              "      <th>Total Fwd Packet</th>\n",
              "      <th>Total Bwd packets</th>\n",
              "      <th>Flow Packets</th>\n",
              "      <th>Flow IAT Mean</th>\n",
              "      <th>Flow IAT Std</th>\n",
              "      <th>Flow IAT Min</th>\n",
              "      <th>...</th>\n",
              "      <th>dst_ip_host</th>\n",
              "      <th>Audio-Streaming</th>\n",
              "      <th>Browsing</th>\n",
              "      <th>Chat</th>\n",
              "      <th>Email</th>\n",
              "      <th>File-Transfer</th>\n",
              "      <th>P2P</th>\n",
              "      <th>VOIP</th>\n",
              "      <th>Video-Streaming</th>\n",
              "      <th>tor_indicator</th>\n",
              "    </tr>\n",
              "  </thead>\n",
              "  <tbody>\n",
              "    <tr>\n",
              "      <th>count</th>\n",
              "      <td>94748.000000</td>\n",
              "      <td>94748.000000</td>\n",
              "      <td>94748.000000</td>\n",
              "      <td>9.474800e+04</td>\n",
              "      <td>94748.000000</td>\n",
              "      <td>94748.000000</td>\n",
              "      <td>9.474800e+04</td>\n",
              "      <td>9.474800e+04</td>\n",
              "      <td>9.474800e+04</td>\n",
              "      <td>9.474800e+04</td>\n",
              "      <td>...</td>\n",
              "      <td>94748.000000</td>\n",
              "      <td>94748.000000</td>\n",
              "      <td>94748.000000</td>\n",
              "      <td>94748.000000</td>\n",
              "      <td>94748.000000</td>\n",
              "      <td>94748.000000</td>\n",
              "      <td>94748.000000</td>\n",
              "      <td>94748.000000</td>\n",
              "      <td>94748.000000</td>\n",
              "      <td>94748.000000</td>\n",
              "    </tr>\n",
              "    <tr>\n",
              "      <th>mean</th>\n",
              "      <td>38491.592910</td>\n",
              "      <td>23329.584878</td>\n",
              "      <td>8.498216</td>\n",
              "      <td>2.334172e+07</td>\n",
              "      <td>146.747573</td>\n",
              "      <td>129.187423</td>\n",
              "      <td>2.373881e+04</td>\n",
              "      <td>2.741408e+06</td>\n",
              "      <td>3.665004e+06</td>\n",
              "      <td>8.611733e+05</td>\n",
              "      <td>...</td>\n",
              "      <td>88.507641</td>\n",
              "      <td>0.018027</td>\n",
              "      <td>0.346266</td>\n",
              "      <td>0.005045</td>\n",
              "      <td>0.005330</td>\n",
              "      <td>0.072265</td>\n",
              "      <td>0.512095</td>\n",
              "      <td>0.003145</td>\n",
              "      <td>0.037827</td>\n",
              "      <td>0.014692</td>\n",
              "    </tr>\n",
              "    <tr>\n",
              "      <th>std</th>\n",
              "      <td>18384.534002</td>\n",
              "      <td>23287.997612</td>\n",
              "      <td>4.622047</td>\n",
              "      <td>3.928250e+07</td>\n",
              "      <td>1896.154058</td>\n",
              "      <td>1491.077454</td>\n",
              "      <td>4.479391e+05</td>\n",
              "      <td>6.954931e+06</td>\n",
              "      <td>7.851204e+06</td>\n",
              "      <td>5.494257e+06</td>\n",
              "      <td>...</td>\n",
              "      <td>79.073678</td>\n",
              "      <td>0.133049</td>\n",
              "      <td>0.475782</td>\n",
              "      <td>0.070849</td>\n",
              "      <td>0.072812</td>\n",
              "      <td>0.258928</td>\n",
              "      <td>0.499856</td>\n",
              "      <td>0.055994</td>\n",
              "      <td>0.190778</td>\n",
              "      <td>0.120316</td>\n",
              "    </tr>\n",
              "    <tr>\n",
              "      <th>min</th>\n",
              "      <td>0.000000</td>\n",
              "      <td>0.000000</td>\n",
              "      <td>0.000000</td>\n",
              "      <td>0.000000e+00</td>\n",
              "      <td>1.000000</td>\n",
              "      <td>0.000000</td>\n",
              "      <td>1.666877e-02</td>\n",
              "      <td>0.000000e+00</td>\n",
              "      <td>0.000000e+00</td>\n",
              "      <td>-2.255000e+03</td>\n",
              "      <td>...</td>\n",
              "      <td>0.000000</td>\n",
              "      <td>0.000000</td>\n",
              "      <td>0.000000</td>\n",
              "      <td>0.000000</td>\n",
              "      <td>0.000000</td>\n",
              "      <td>0.000000</td>\n",
              "      <td>0.000000</td>\n",
              "      <td>0.000000</td>\n",
              "      <td>0.000000</td>\n",
              "      <td>0.000000</td>\n",
              "    </tr>\n",
              "    <tr>\n",
              "      <th>25%</th>\n",
              "      <td>34117.000000</td>\n",
              "      <td>80.000000</td>\n",
              "      <td>6.000000</td>\n",
              "      <td>5.584500e+04</td>\n",
              "      <td>2.000000</td>\n",
              "      <td>0.000000</td>\n",
              "      <td>3.740367e-01</td>\n",
              "      <td>1.473200e+04</td>\n",
              "      <td>0.000000e+00</td>\n",
              "      <td>1.200000e+01</td>\n",
              "      <td>...</td>\n",
              "      <td>11.000000</td>\n",
              "      <td>0.000000</td>\n",
              "      <td>0.000000</td>\n",
              "      <td>0.000000</td>\n",
              "      <td>0.000000</td>\n",
              "      <td>0.000000</td>\n",
              "      <td>0.000000</td>\n",
              "      <td>0.000000</td>\n",
              "      <td>0.000000</td>\n",
              "      <td>0.000000</td>\n",
              "    </tr>\n",
              "    <tr>\n",
              "      <th>50%</th>\n",
              "      <td>43444.000000</td>\n",
              "      <td>14363.000000</td>\n",
              "      <td>6.000000</td>\n",
              "      <td>8.035165e+05</td>\n",
              "      <td>3.000000</td>\n",
              "      <td>2.000000</td>\n",
              "      <td>5.871474e+00</td>\n",
              "      <td>2.600740e+05</td>\n",
              "      <td>2.325698e+05</td>\n",
              "      <td>3.500000e+01</td>\n",
              "      <td>...</td>\n",
              "      <td>66.000000</td>\n",
              "      <td>0.000000</td>\n",
              "      <td>0.000000</td>\n",
              "      <td>0.000000</td>\n",
              "      <td>0.000000</td>\n",
              "      <td>0.000000</td>\n",
              "      <td>1.000000</td>\n",
              "      <td>0.000000</td>\n",
              "      <td>0.000000</td>\n",
              "      <td>0.000000</td>\n",
              "    </tr>\n",
              "    <tr>\n",
              "      <th>75%</th>\n",
              "      <td>52299.000000</td>\n",
              "      <td>48654.000000</td>\n",
              "      <td>6.000000</td>\n",
              "      <td>1.831178e+07</td>\n",
              "      <td>5.000000</td>\n",
              "      <td>4.000000</td>\n",
              "      <td>9.231133e+01</td>\n",
              "      <td>2.945648e+06</td>\n",
              "      <td>3.145184e+06</td>\n",
              "      <td>1.429000e+03</td>\n",
              "      <td>...</td>\n",
              "      <td>157.000000</td>\n",
              "      <td>0.000000</td>\n",
              "      <td>1.000000</td>\n",
              "      <td>0.000000</td>\n",
              "      <td>0.000000</td>\n",
              "      <td>0.000000</td>\n",
              "      <td>1.000000</td>\n",
              "      <td>0.000000</td>\n",
              "      <td>0.000000</td>\n",
              "      <td>0.000000</td>\n",
              "    </tr>\n",
              "    <tr>\n",
              "      <th>max</th>\n",
              "      <td>65533.000000</td>\n",
              "      <td>65535.000000</td>\n",
              "      <td>17.000000</td>\n",
              "      <td>1.200000e+08</td>\n",
              "      <td>113960.000000</td>\n",
              "      <td>81630.000000</td>\n",
              "      <td>2.000000e+07</td>\n",
              "      <td>1.199849e+08</td>\n",
              "      <td>8.059627e+07</td>\n",
              "      <td>1.199849e+08</td>\n",
              "      <td>...</td>\n",
              "      <td>255.000000</td>\n",
              "      <td>1.000000</td>\n",
              "      <td>1.000000</td>\n",
              "      <td>1.000000</td>\n",
              "      <td>1.000000</td>\n",
              "      <td>1.000000</td>\n",
              "      <td>1.000000</td>\n",
              "      <td>1.000000</td>\n",
              "      <td>1.000000</td>\n",
              "      <td>1.000000</td>\n",
              "    </tr>\n",
              "  </tbody>\n",
              "</table>\n",
              "<p>8 rows × 35 columns</p>\n",
              "</div>\n",
              "      <button class=\"colab-df-convert\" onclick=\"convertToInteractive('df-832f630b-e272-41e1-a8a7-14ed34fd953b')\"\n",
              "              title=\"Convert this dataframe to an interactive table.\"\n",
              "              style=\"display:none;\">\n",
              "        \n",
              "  <svg xmlns=\"http://www.w3.org/2000/svg\" height=\"24px\"viewBox=\"0 0 24 24\"\n",
              "       width=\"24px\">\n",
              "    <path d=\"M0 0h24v24H0V0z\" fill=\"none\"/>\n",
              "    <path d=\"M18.56 5.44l.94 2.06.94-2.06 2.06-.94-2.06-.94-.94-2.06-.94 2.06-2.06.94zm-11 1L8.5 8.5l.94-2.06 2.06-.94-2.06-.94L8.5 2.5l-.94 2.06-2.06.94zm10 10l.94 2.06.94-2.06 2.06-.94-2.06-.94-.94-2.06-.94 2.06-2.06.94z\"/><path d=\"M17.41 7.96l-1.37-1.37c-.4-.4-.92-.59-1.43-.59-.52 0-1.04.2-1.43.59L10.3 9.45l-7.72 7.72c-.78.78-.78 2.05 0 2.83L4 21.41c.39.39.9.59 1.41.59.51 0 1.02-.2 1.41-.59l7.78-7.78 2.81-2.81c.8-.78.8-2.07 0-2.86zM5.41 20L4 18.59l7.72-7.72 1.47 1.35L5.41 20z\"/>\n",
              "  </svg>\n",
              "      </button>\n",
              "      \n",
              "  <style>\n",
              "    .colab-df-container {\n",
              "      display:flex;\n",
              "      flex-wrap:wrap;\n",
              "      gap: 12px;\n",
              "    }\n",
              "\n",
              "    .colab-df-convert {\n",
              "      background-color: #E8F0FE;\n",
              "      border: none;\n",
              "      border-radius: 50%;\n",
              "      cursor: pointer;\n",
              "      display: none;\n",
              "      fill: #1967D2;\n",
              "      height: 32px;\n",
              "      padding: 0 0 0 0;\n",
              "      width: 32px;\n",
              "    }\n",
              "\n",
              "    .colab-df-convert:hover {\n",
              "      background-color: #E2EBFA;\n",
              "      box-shadow: 0px 1px 2px rgba(60, 64, 67, 0.3), 0px 1px 3px 1px rgba(60, 64, 67, 0.15);\n",
              "      fill: #174EA6;\n",
              "    }\n",
              "\n",
              "    [theme=dark] .colab-df-convert {\n",
              "      background-color: #3B4455;\n",
              "      fill: #D2E3FC;\n",
              "    }\n",
              "\n",
              "    [theme=dark] .colab-df-convert:hover {\n",
              "      background-color: #434B5C;\n",
              "      box-shadow: 0px 1px 3px 1px rgba(0, 0, 0, 0.15);\n",
              "      filter: drop-shadow(0px 1px 2px rgba(0, 0, 0, 0.3));\n",
              "      fill: #FFFFFF;\n",
              "    }\n",
              "  </style>\n",
              "\n",
              "      <script>\n",
              "        const buttonEl =\n",
              "          document.querySelector('#df-832f630b-e272-41e1-a8a7-14ed34fd953b button.colab-df-convert');\n",
              "        buttonEl.style.display =\n",
              "          google.colab.kernel.accessAllowed ? 'block' : 'none';\n",
              "\n",
              "        async function convertToInteractive(key) {\n",
              "          const element = document.querySelector('#df-832f630b-e272-41e1-a8a7-14ed34fd953b');\n",
              "          const dataTable =\n",
              "            await google.colab.kernel.invokeFunction('convertToInteractive',\n",
              "                                                     [key], {});\n",
              "          if (!dataTable) return;\n",
              "\n",
              "          const docLinkHtml = 'Like what you see? Visit the ' +\n",
              "            '<a target=\"_blank\" href=https://colab.research.google.com/notebooks/data_table.ipynb>data table notebook</a>'\n",
              "            + ' to learn more about interactive tables.';\n",
              "          element.innerHTML = '';\n",
              "          dataTable['output_type'] = 'display_data';\n",
              "          await google.colab.output.renderOutput(dataTable, element);\n",
              "          const docLink = document.createElement('div');\n",
              "          docLink.innerHTML = docLinkHtml;\n",
              "          element.appendChild(docLink);\n",
              "        }\n",
              "      </script>\n",
              "    </div>\n",
              "  </div>\n",
              "  "
            ]
          },
          "metadata": {},
          "execution_count": 2
        }
      ]
    },
    {
      "cell_type": "code",
      "source": [
        "x = dataset.loc[:,['Src Port', 'Dst Port', 'Protocol', 'Flow Duration', 'Total Fwd Packet',\n",
        "                       'Total Bwd packets', 'Flow Packets', 'Flow IAT Mean', 'Flow IAT Std',\n",
        "                       'Flow IAT Min', 'Fwd IAT Std', 'Bwd IAT Std', 'Fwd Packets',\n",
        "                       'Down/Up Ratio', 'FWD Init Win Bytes', 'Bwd Init Win Bytes',\n",
        "                       'Idle Mean', 'Idle Std', 'src_ip_class_a', 'src_ip_class_b',\n",
        "                       'src_ip_class_c', 'src_ip_host', 'dst_ip_class_a', 'dst_ip_class_b',\n",
        "                       'dst_ip_class_c', 'dst_ip_host', 'Audio-Streaming', 'Browsing', 'Chat',\n",
        "                       'Email', 'File-Transfer', 'P2P', 'VOIP', 'Video-Streaming']].values\n",
        "\n",
        "y = dataset['tor_indicator'].values\n",
        "                      \n",
        "print(x[0:3,:])"
      ],
      "metadata": {
        "colab": {
          "base_uri": "https://localhost:8080/"
        },
        "id": "OknEDHUw8T8j",
        "outputId": "8fd6e49a-e6f5-480d-e31f-7a74ae08cc55"
      },
      "execution_count": 3,
      "outputs": [
        {
          "output_type": "stream",
          "name": "stdout",
          "text": [
            "[[5.71580000e+04 4.43000000e+02 6.00000000e+00 2.29000000e+02\n",
            "  1.00000000e+00 1.00000000e+00 8.73362445e+03 2.29000000e+02\n",
            "  0.00000000e+00 2.29000000e+02 0.00000000e+00 0.00000000e+00\n",
            "  4.36681223e+03 1.00000000e+00 1.89200000e+03 1.04700000e+03\n",
            "  0.00000000e+00 0.00000000e+00 1.00000000e+01 1.52000000e+02\n",
            "  1.52000000e+02 1.10000000e+01 2.16000000e+02 5.80000000e+01\n",
            "  2.20000000e+02 9.90000000e+01 1.00000000e+00 0.00000000e+00\n",
            "  0.00000000e+00 0.00000000e+00 0.00000000e+00 0.00000000e+00\n",
            "  0.00000000e+00 0.00000000e+00]\n",
            " [5.71590000e+04 4.43000000e+02 6.00000000e+00 4.07000000e+02\n",
            "  1.00000000e+00 1.00000000e+00 4.91400491e+03 4.07000000e+02\n",
            "  0.00000000e+00 4.07000000e+02 0.00000000e+00 0.00000000e+00\n",
            "  2.45700246e+03 1.00000000e+00 1.98700000e+03 1.04700000e+03\n",
            "  0.00000000e+00 0.00000000e+00 1.00000000e+01 1.52000000e+02\n",
            "  1.52000000e+02 1.10000000e+01 2.16000000e+02 5.80000000e+01\n",
            "  2.20000000e+02 9.90000000e+01 1.00000000e+00 0.00000000e+00\n",
            "  0.00000000e+00 0.00000000e+00 0.00000000e+00 0.00000000e+00\n",
            "  0.00000000e+00 0.00000000e+00]\n",
            " [5.71600000e+04 4.43000000e+02 6.00000000e+00 4.31000000e+02\n",
            "  1.00000000e+00 1.00000000e+00 4.64037123e+03 4.31000000e+02\n",
            "  0.00000000e+00 4.31000000e+02 0.00000000e+00 0.00000000e+00\n",
            "  2.32018561e+03 1.00000000e+00 2.04900000e+03 1.04700000e+03\n",
            "  0.00000000e+00 0.00000000e+00 1.00000000e+01 1.52000000e+02\n",
            "  1.52000000e+02 1.10000000e+01 2.16000000e+02 5.80000000e+01\n",
            "  2.20000000e+02 9.90000000e+01 1.00000000e+00 0.00000000e+00\n",
            "  0.00000000e+00 0.00000000e+00 0.00000000e+00 0.00000000e+00\n",
            "  0.00000000e+00 0.00000000e+00]]\n"
          ]
        }
      ]
    },
    {
      "cell_type": "code",
      "source": [
        "y[0:10]"
      ],
      "metadata": {
        "colab": {
          "base_uri": "https://localhost:8080/"
        },
        "id": "i6jMUEv4_77Z",
        "outputId": "f482685d-fb85-4b00-b9d7-51691a629378"
      },
      "execution_count": 4,
      "outputs": [
        {
          "output_type": "execute_result",
          "data": {
            "text/plain": [
              "array([0, 0, 0, 0, 0, 0, 0, 0, 0, 0])"
            ]
          },
          "metadata": {},
          "execution_count": 4
        }
      ]
    },
    {
      "cell_type": "markdown",
      "source": [
        "Separar entre conjunto de treinamento e teste"
      ],
      "metadata": {
        "id": "3Ss2fZ25AJcg"
      }
    },
    {
      "cell_type": "code",
      "source": [
        "from sklearn.model_selection import train_test_split\n",
        "x_train, x_test, y_train, y_test = train_test_split(x, y, test_size = 0.25, random_state = 10)\n"
      ],
      "metadata": {
        "id": "z9d3CwbQAM64"
      },
      "execution_count": 5,
      "outputs": []
    },
    {
      "cell_type": "markdown",
      "source": [
        "Normalizacao"
      ],
      "metadata": {
        "id": "X_1m0_s0A72e"
      }
    },
    {
      "cell_type": "code",
      "source": [
        "from sklearn.preprocessing import MinMaxScaler\n",
        "mm = MinMaxScaler()\n",
        "\n",
        "x_train = mm.fit_transform(x_train)\n",
        "x_test = mm.transform(x_test)"
      ],
      "metadata": {
        "id": "opb9PIPKA6ww"
      },
      "execution_count": 6,
      "outputs": []
    },
    {
      "cell_type": "markdown",
      "source": [
        "#Treinamento"
      ],
      "metadata": {
        "id": "43XqR1FVBsqm"
      }
    },
    {
      "cell_type": "code",
      "source": [
        "import tensorflow as tf\n",
        "from keras.layers import Dropout"
      ],
      "metadata": {
        "id": "WdE1SV7gBr65"
      },
      "execution_count": 7,
      "outputs": []
    },
    {
      "cell_type": "markdown",
      "source": [
        "##Montando a Arquitetura"
      ],
      "metadata": {
        "id": "9q9EhUG5CYnV"
      }
    },
    {
      "cell_type": "code",
      "source": [
        "classifier = tf.keras.models.Sequential() "
      ],
      "metadata": {
        "id": "LiXG59OfCaxV"
      },
      "execution_count": 8,
      "outputs": []
    },
    {
      "cell_type": "code",
      "source": [
        "classifier.add(tf.keras.layers.Dense(activation=\"relu\", input_dim=34, units=256, kernel_initializer='uniform'))\n",
        "classifier.add(Dropout(0.5))\n",
        "classifier.add(tf.keras.layers.Dense(activation = 'relu', units=128))\n",
        "classifier.add(tf.keras.layers.Dense(activation = 'relu', units=128))\n",
        "classifier.add(Dropout(0.5))\n",
        "classifier.add(tf.keras.layers.Dense(activation = 'relu', units=64))\n",
        "classifier.add(tf.keras.layers.Dense(activation = 'relu', units=64))\n",
        "classifier.add(tf.keras.layers.Dense(activation='sigmoid', units=1))"
      ],
      "metadata": {
        "id": "TX-tKKF7EEuW"
      },
      "execution_count": 13,
      "outputs": []
    },
    {
      "cell_type": "markdown",
      "source": [
        "Treinamento"
      ],
      "metadata": {
        "id": "z3nuJOpwGNiC"
      }
    },
    {
      "cell_type": "code",
      "source": [
        "classifier.compile(optimizer='adam', loss = 'binary_crossentropy', metrics= ['accuracy'])"
      ],
      "metadata": {
        "id": "AsGjBxBDGQfJ"
      },
      "execution_count": 14,
      "outputs": []
    },
    {
      "cell_type": "markdown",
      "source": [
        "Executando treinamento"
      ],
      "metadata": {
        "id": "O5xZGU2zHCgL"
      }
    },
    {
      "cell_type": "code",
      "source": [
        "history=classifier.fit(x_train, y_train, batch_size=15, epochs= 100, validation_split=0.25)"
      ],
      "metadata": {
        "colab": {
          "base_uri": "https://localhost:8080/"
        },
        "id": "U-JyPYKjHCOa",
        "outputId": "2ae5ddd6-1d39-40bc-b158-2dd75a7edb46"
      },
      "execution_count": 15,
      "outputs": [
        {
          "output_type": "stream",
          "name": "stdout",
          "text": [
            "Epoch 1/100\n",
            "3553/3553 [==============================] - 15s 4ms/step - loss: 0.0177 - accuracy: 0.9982 - val_loss: 0.0084 - val_accuracy: 0.9992\n",
            "Epoch 2/100\n",
            "3553/3553 [==============================] - 14s 4ms/step - loss: 0.0148 - accuracy: 0.9981 - val_loss: 0.0103 - val_accuracy: 0.9986\n",
            "Epoch 3/100\n",
            "3553/3553 [==============================] - 14s 4ms/step - loss: 0.0154 - accuracy: 0.9977 - val_loss: 0.0286 - val_accuracy: 0.9855\n",
            "Epoch 4/100\n",
            "3553/3553 [==============================] - 14s 4ms/step - loss: 0.0080 - accuracy: 0.9985 - val_loss: 0.0071 - val_accuracy: 0.9993\n",
            "Epoch 5/100\n",
            "3553/3553 [==============================] - 15s 4ms/step - loss: 0.0064 - accuracy: 0.9991 - val_loss: 0.0077 - val_accuracy: 0.9994\n",
            "Epoch 6/100\n",
            "3553/3553 [==============================] - 14s 4ms/step - loss: 0.0106 - accuracy: 0.9987 - val_loss: 0.0121 - val_accuracy: 0.9984\n",
            "Epoch 7/100\n",
            "3553/3553 [==============================] - 14s 4ms/step - loss: 0.0455 - accuracy: 0.9923 - val_loss: 0.0549 - val_accuracy: 0.9905\n",
            "Epoch 8/100\n",
            "3553/3553 [==============================] - 14s 4ms/step - loss: 0.0341 - accuracy: 0.9941 - val_loss: 0.0054 - val_accuracy: 0.9990\n",
            "Epoch 9/100\n",
            "3553/3553 [==============================] - 14s 4ms/step - loss: 0.0178 - accuracy: 0.9977 - val_loss: 0.0140 - val_accuracy: 0.9982\n",
            "Epoch 10/100\n",
            "3553/3553 [==============================] - 14s 4ms/step - loss: 0.0173 - accuracy: 0.9977 - val_loss: 0.0141 - val_accuracy: 0.9982\n",
            "Epoch 11/100\n",
            "3553/3553 [==============================] - 14s 4ms/step - loss: 0.0195 - accuracy: 0.9968 - val_loss: 0.0125 - val_accuracy: 0.9985\n",
            "Epoch 12/100\n",
            "3553/3553 [==============================] - 14s 4ms/step - loss: 0.0156 - accuracy: 0.9980 - val_loss: 0.0114 - val_accuracy: 0.9985\n",
            "Epoch 13/100\n",
            "3553/3553 [==============================] - 14s 4ms/step - loss: 0.0155 - accuracy: 0.9980 - val_loss: 0.0134 - val_accuracy: 0.9985\n",
            "Epoch 14/100\n",
            "3553/3553 [==============================] - 14s 4ms/step - loss: 0.0151 - accuracy: 0.9981 - val_loss: 0.0114 - val_accuracy: 0.9985\n",
            "Epoch 15/100\n",
            "3553/3553 [==============================] - 14s 4ms/step - loss: 0.0152 - accuracy: 0.9980 - val_loss: 0.0117 - val_accuracy: 0.9985\n",
            "Epoch 16/100\n",
            "3553/3553 [==============================] - 14s 4ms/step - loss: 0.0093 - accuracy: 0.9985 - val_loss: 0.0058 - val_accuracy: 0.9990\n",
            "Epoch 17/100\n",
            "3553/3553 [==============================] - 14s 4ms/step - loss: 0.0140 - accuracy: 0.9979 - val_loss: 0.0193 - val_accuracy: 0.9972\n",
            "Epoch 18/100\n",
            "3553/3553 [==============================] - 14s 4ms/step - loss: 0.0228 - accuracy: 0.9968 - val_loss: 0.0192 - val_accuracy: 0.9972\n",
            "Epoch 19/100\n",
            "3553/3553 [==============================] - 14s 4ms/step - loss: 0.0226 - accuracy: 0.9968 - val_loss: 0.0190 - val_accuracy: 0.9972\n",
            "Epoch 20/100\n",
            "3553/3553 [==============================] - 14s 4ms/step - loss: 0.0222 - accuracy: 0.9968 - val_loss: 0.0190 - val_accuracy: 0.9972\n",
            "Epoch 21/100\n",
            "3553/3553 [==============================] - 14s 4ms/step - loss: 0.0221 - accuracy: 0.9968 - val_loss: 0.0191 - val_accuracy: 0.9972\n",
            "Epoch 22/100\n",
            "3553/3553 [==============================] - 14s 4ms/step - loss: 0.0223 - accuracy: 0.9967 - val_loss: 0.0198 - val_accuracy: 0.9972\n",
            "Epoch 23/100\n",
            "3553/3553 [==============================] - 14s 4ms/step - loss: 0.0221 - accuracy: 0.9968 - val_loss: 0.0192 - val_accuracy: 0.9972\n",
            "Epoch 24/100\n",
            "3553/3553 [==============================] - 14s 4ms/step - loss: 0.0217 - accuracy: 0.9968 - val_loss: 0.0190 - val_accuracy: 0.9972\n",
            "Epoch 25/100\n",
            "3553/3553 [==============================] - 14s 4ms/step - loss: 0.0220 - accuracy: 0.9968 - val_loss: 0.0190 - val_accuracy: 0.9972\n",
            "Epoch 26/100\n",
            "3553/3553 [==============================] - 14s 4ms/step - loss: 0.0223 - accuracy: 0.9967 - val_loss: 0.0191 - val_accuracy: 0.9972\n",
            "Epoch 27/100\n",
            "3553/3553 [==============================] - 14s 4ms/step - loss: 0.0140 - accuracy: 0.9981 - val_loss: 0.0107 - val_accuracy: 0.9986\n",
            "Epoch 28/100\n",
            "3553/3553 [==============================] - 14s 4ms/step - loss: 0.0151 - accuracy: 0.9983 - val_loss: 0.0106 - val_accuracy: 0.9986\n",
            "Epoch 29/100\n",
            "3553/3553 [==============================] - 13s 4ms/step - loss: 0.0558 - accuracy: 0.9902 - val_loss: 0.0715 - val_accuracy: 0.9866\n",
            "Epoch 30/100\n",
            "3553/3553 [==============================] - 14s 4ms/step - loss: 0.0702 - accuracy: 0.9869 - val_loss: 0.0718 - val_accuracy: 0.9866\n",
            "Epoch 31/100\n",
            "3553/3553 [==============================] - 14s 4ms/step - loss: 0.0703 - accuracy: 0.9868 - val_loss: 0.0712 - val_accuracy: 0.9866\n",
            "Epoch 32/100\n",
            "3553/3553 [==============================] - 14s 4ms/step - loss: 0.0703 - accuracy: 0.9868 - val_loss: 0.0711 - val_accuracy: 0.9866\n",
            "Epoch 33/100\n",
            "3553/3553 [==============================] - 13s 4ms/step - loss: 0.0702 - accuracy: 0.9868 - val_loss: 0.0711 - val_accuracy: 0.9866\n",
            "Epoch 34/100\n",
            "3553/3553 [==============================] - 13s 4ms/step - loss: 0.0706 - accuracy: 0.9868 - val_loss: 0.0712 - val_accuracy: 0.9866\n",
            "Epoch 35/100\n",
            "3553/3553 [==============================] - 14s 4ms/step - loss: 0.0736 - accuracy: 0.9861 - val_loss: 0.0757 - val_accuracy: 0.9855\n",
            "Epoch 36/100\n",
            "3553/3553 [==============================] - 13s 4ms/step - loss: 0.0769 - accuracy: 0.9853 - val_loss: 0.0757 - val_accuracy: 0.9855\n",
            "Epoch 37/100\n",
            "3553/3553 [==============================] - 13s 4ms/step - loss: 0.0768 - accuracy: 0.9853 - val_loss: 0.0763 - val_accuracy: 0.9855\n",
            "Epoch 38/100\n",
            "3553/3553 [==============================] - 13s 4ms/step - loss: 0.0769 - accuracy: 0.9853 - val_loss: 0.0758 - val_accuracy: 0.9855\n",
            "Epoch 39/100\n",
            "3553/3553 [==============================] - 13s 4ms/step - loss: 0.0769 - accuracy: 0.9853 - val_loss: 0.0756 - val_accuracy: 0.9855\n",
            "Epoch 40/100\n",
            "3553/3553 [==============================] - 14s 4ms/step - loss: 0.0769 - accuracy: 0.9853 - val_loss: 0.0757 - val_accuracy: 0.9855\n",
            "Epoch 41/100\n",
            "3553/3553 [==============================] - 14s 4ms/step - loss: 0.0768 - accuracy: 0.9853 - val_loss: 0.0757 - val_accuracy: 0.9855\n",
            "Epoch 42/100\n",
            "3553/3553 [==============================] - 14s 4ms/step - loss: 0.0769 - accuracy: 0.9853 - val_loss: 0.0757 - val_accuracy: 0.9855\n",
            "Epoch 43/100\n",
            "3553/3553 [==============================] - 14s 4ms/step - loss: 0.0769 - accuracy: 0.9853 - val_loss: 0.0758 - val_accuracy: 0.9855\n",
            "Epoch 44/100\n",
            "3553/3553 [==============================] - 14s 4ms/step - loss: 0.0769 - accuracy: 0.9853 - val_loss: 0.0759 - val_accuracy: 0.9855\n",
            "Epoch 45/100\n",
            "3553/3553 [==============================] - 14s 4ms/step - loss: 0.0768 - accuracy: 0.9853 - val_loss: 0.0758 - val_accuracy: 0.9855\n",
            "Epoch 46/100\n",
            "3553/3553 [==============================] - 14s 4ms/step - loss: 0.0769 - accuracy: 0.9853 - val_loss: 0.0757 - val_accuracy: 0.9855\n",
            "Epoch 47/100\n",
            "3553/3553 [==============================] - 14s 4ms/step - loss: 0.0769 - accuracy: 0.9853 - val_loss: 0.0757 - val_accuracy: 0.9855\n",
            "Epoch 48/100\n",
            "3553/3553 [==============================] - 13s 4ms/step - loss: 0.0768 - accuracy: 0.9853 - val_loss: 0.0756 - val_accuracy: 0.9855\n",
            "Epoch 49/100\n",
            "3553/3553 [==============================] - 13s 4ms/step - loss: 0.0768 - accuracy: 0.9853 - val_loss: 0.0757 - val_accuracy: 0.9855\n",
            "Epoch 50/100\n",
            "3553/3553 [==============================] - 13s 4ms/step - loss: 0.0768 - accuracy: 0.9853 - val_loss: 0.0758 - val_accuracy: 0.9855\n",
            "Epoch 51/100\n",
            "3553/3553 [==============================] - 14s 4ms/step - loss: 0.0768 - accuracy: 0.9853 - val_loss: 0.0761 - val_accuracy: 0.9855\n",
            "Epoch 52/100\n",
            "3553/3553 [==============================] - 13s 4ms/step - loss: 0.0769 - accuracy: 0.9853 - val_loss: 0.0757 - val_accuracy: 0.9855\n",
            "Epoch 53/100\n",
            "3553/3553 [==============================] - 14s 4ms/step - loss: 0.0769 - accuracy: 0.9853 - val_loss: 0.0758 - val_accuracy: 0.9855\n",
            "Epoch 54/100\n",
            "3553/3553 [==============================] - 14s 4ms/step - loss: 0.0768 - accuracy: 0.9853 - val_loss: 0.0758 - val_accuracy: 0.9855\n",
            "Epoch 55/100\n",
            "3553/3553 [==============================] - 14s 4ms/step - loss: 0.0769 - accuracy: 0.9853 - val_loss: 0.0757 - val_accuracy: 0.9855\n",
            "Epoch 56/100\n",
            "3553/3553 [==============================] - 14s 4ms/step - loss: 0.0767 - accuracy: 0.9853 - val_loss: 0.0765 - val_accuracy: 0.9855\n",
            "Epoch 57/100\n",
            "3553/3553 [==============================] - 14s 4ms/step - loss: 0.0769 - accuracy: 0.9853 - val_loss: 0.0756 - val_accuracy: 0.9855\n",
            "Epoch 58/100\n",
            "3553/3553 [==============================] - 13s 4ms/step - loss: 0.0769 - accuracy: 0.9853 - val_loss: 0.0756 - val_accuracy: 0.9855\n",
            "Epoch 59/100\n",
            "3553/3553 [==============================] - 14s 4ms/step - loss: 0.0768 - accuracy: 0.9853 - val_loss: 0.0756 - val_accuracy: 0.9855\n",
            "Epoch 60/100\n",
            "3553/3553 [==============================] - 14s 4ms/step - loss: 0.0768 - accuracy: 0.9853 - val_loss: 0.0756 - val_accuracy: 0.9855\n",
            "Epoch 61/100\n",
            "3553/3553 [==============================] - 13s 4ms/step - loss: 0.0768 - accuracy: 0.9853 - val_loss: 0.0757 - val_accuracy: 0.9855\n",
            "Epoch 62/100\n",
            "3553/3553 [==============================] - 13s 4ms/step - loss: 0.0768 - accuracy: 0.9853 - val_loss: 0.0756 - val_accuracy: 0.9855\n",
            "Epoch 63/100\n",
            "3553/3553 [==============================] - 13s 4ms/step - loss: 0.0769 - accuracy: 0.9853 - val_loss: 0.0757 - val_accuracy: 0.9855\n",
            "Epoch 64/100\n",
            "3553/3553 [==============================] - 14s 4ms/step - loss: 0.0768 - accuracy: 0.9853 - val_loss: 0.0757 - val_accuracy: 0.9855\n",
            "Epoch 65/100\n",
            "3553/3553 [==============================] - 13s 4ms/step - loss: 0.0768 - accuracy: 0.9853 - val_loss: 0.0757 - val_accuracy: 0.9855\n",
            "Epoch 66/100\n",
            "3553/3553 [==============================] - 14s 4ms/step - loss: 0.0768 - accuracy: 0.9853 - val_loss: 0.0761 - val_accuracy: 0.9855\n",
            "Epoch 67/100\n",
            "3553/3553 [==============================] - 13s 4ms/step - loss: 0.0768 - accuracy: 0.9853 - val_loss: 0.0756 - val_accuracy: 0.9855\n",
            "Epoch 68/100\n",
            "3553/3553 [==============================] - 13s 4ms/step - loss: 0.0768 - accuracy: 0.9853 - val_loss: 0.0756 - val_accuracy: 0.9855\n",
            "Epoch 69/100\n",
            "3553/3553 [==============================] - 14s 4ms/step - loss: 0.0768 - accuracy: 0.9853 - val_loss: 0.0757 - val_accuracy: 0.9855\n",
            "Epoch 70/100\n",
            "3553/3553 [==============================] - 14s 4ms/step - loss: 0.0769 - accuracy: 0.9853 - val_loss: 0.0756 - val_accuracy: 0.9855\n",
            "Epoch 71/100\n",
            "3553/3553 [==============================] - 13s 4ms/step - loss: 0.0768 - accuracy: 0.9853 - val_loss: 0.0757 - val_accuracy: 0.9855\n",
            "Epoch 72/100\n",
            "3553/3553 [==============================] - 14s 4ms/step - loss: 0.0767 - accuracy: 0.9853 - val_loss: 0.0756 - val_accuracy: 0.9855\n",
            "Epoch 73/100\n",
            "3553/3553 [==============================] - 14s 4ms/step - loss: 0.0768 - accuracy: 0.9853 - val_loss: 0.0757 - val_accuracy: 0.9855\n",
            "Epoch 74/100\n",
            "3553/3553 [==============================] - 14s 4ms/step - loss: 0.0768 - accuracy: 0.9853 - val_loss: 0.0756 - val_accuracy: 0.9855\n",
            "Epoch 75/100\n",
            "3553/3553 [==============================] - 14s 4ms/step - loss: 0.0768 - accuracy: 0.9853 - val_loss: 0.0758 - val_accuracy: 0.9855\n",
            "Epoch 76/100\n",
            "3553/3553 [==============================] - 14s 4ms/step - loss: 0.0768 - accuracy: 0.9853 - val_loss: 0.0757 - val_accuracy: 0.9855\n",
            "Epoch 77/100\n",
            "3553/3553 [==============================] - 14s 4ms/step - loss: 0.0768 - accuracy: 0.9853 - val_loss: 0.0760 - val_accuracy: 0.9855\n",
            "Epoch 78/100\n",
            "3553/3553 [==============================] - 14s 4ms/step - loss: 0.0767 - accuracy: 0.9853 - val_loss: 0.0756 - val_accuracy: 0.9855\n",
            "Epoch 79/100\n",
            "3553/3553 [==============================] - 13s 4ms/step - loss: 0.0768 - accuracy: 0.9853 - val_loss: 0.0757 - val_accuracy: 0.9855\n",
            "Epoch 80/100\n",
            "3553/3553 [==============================] - 14s 4ms/step - loss: 0.0768 - accuracy: 0.9853 - val_loss: 0.0757 - val_accuracy: 0.9855\n",
            "Epoch 81/100\n",
            "3553/3553 [==============================] - 14s 4ms/step - loss: 0.0768 - accuracy: 0.9853 - val_loss: 0.0756 - val_accuracy: 0.9855\n",
            "Epoch 82/100\n",
            "3553/3553 [==============================] - 13s 4ms/step - loss: 0.0768 - accuracy: 0.9853 - val_loss: 0.0756 - val_accuracy: 0.9855\n",
            "Epoch 83/100\n",
            "3553/3553 [==============================] - 14s 4ms/step - loss: 0.0768 - accuracy: 0.9853 - val_loss: 0.0757 - val_accuracy: 0.9855\n",
            "Epoch 84/100\n",
            "3553/3553 [==============================] - 13s 4ms/step - loss: 0.0768 - accuracy: 0.9853 - val_loss: 0.0757 - val_accuracy: 0.9855\n",
            "Epoch 85/100\n",
            "3553/3553 [==============================] - 13s 4ms/step - loss: 0.0768 - accuracy: 0.9853 - val_loss: 0.0756 - val_accuracy: 0.9855\n",
            "Epoch 86/100\n",
            "3553/3553 [==============================] - 13s 4ms/step - loss: 0.0768 - accuracy: 0.9853 - val_loss: 0.0756 - val_accuracy: 0.9855\n",
            "Epoch 87/100\n",
            "3553/3553 [==============================] - 14s 4ms/step - loss: 0.0768 - accuracy: 0.9853 - val_loss: 0.0760 - val_accuracy: 0.9855\n",
            "Epoch 88/100\n",
            "3553/3553 [==============================] - 14s 4ms/step - loss: 0.0768 - accuracy: 0.9853 - val_loss: 0.0756 - val_accuracy: 0.9855\n",
            "Epoch 89/100\n",
            "3553/3553 [==============================] - 14s 4ms/step - loss: 0.0768 - accuracy: 0.9853 - val_loss: 0.0757 - val_accuracy: 0.9855\n",
            "Epoch 90/100\n",
            "3553/3553 [==============================] - 14s 4ms/step - loss: 0.0768 - accuracy: 0.9853 - val_loss: 0.0758 - val_accuracy: 0.9855\n",
            "Epoch 91/100\n",
            "3553/3553 [==============================] - 14s 4ms/step - loss: 0.0768 - accuracy: 0.9853 - val_loss: 0.0757 - val_accuracy: 0.9855\n",
            "Epoch 92/100\n",
            "3553/3553 [==============================] - 14s 4ms/step - loss: 0.0767 - accuracy: 0.9853 - val_loss: 0.0759 - val_accuracy: 0.9855\n",
            "Epoch 93/100\n",
            "3553/3553 [==============================] - 13s 4ms/step - loss: 0.0768 - accuracy: 0.9853 - val_loss: 0.0757 - val_accuracy: 0.9855\n",
            "Epoch 94/100\n",
            "3553/3553 [==============================] - 14s 4ms/step - loss: 0.0768 - accuracy: 0.9853 - val_loss: 0.0757 - val_accuracy: 0.9855\n",
            "Epoch 95/100\n",
            "3553/3553 [==============================] - 14s 4ms/step - loss: 0.0767 - accuracy: 0.9853 - val_loss: 0.0756 - val_accuracy: 0.9855\n",
            "Epoch 96/100\n",
            "3553/3553 [==============================] - 14s 4ms/step - loss: 0.0768 - accuracy: 0.9853 - val_loss: 0.0757 - val_accuracy: 0.9855\n",
            "Epoch 97/100\n",
            "3553/3553 [==============================] - 13s 4ms/step - loss: 0.0768 - accuracy: 0.9853 - val_loss: 0.0757 - val_accuracy: 0.9855\n",
            "Epoch 98/100\n",
            "3553/3553 [==============================] - 14s 4ms/step - loss: 0.0768 - accuracy: 0.9853 - val_loss: 0.0756 - val_accuracy: 0.9855\n",
            "Epoch 99/100\n",
            "3553/3553 [==============================] - 13s 4ms/step - loss: 0.0768 - accuracy: 0.9853 - val_loss: 0.0757 - val_accuracy: 0.9855\n",
            "Epoch 100/100\n",
            "3553/3553 [==============================] - 14s 4ms/step - loss: 0.0768 - accuracy: 0.9853 - val_loss: 0.0757 - val_accuracy: 0.9855\n"
          ]
        }
      ]
    },
    {
      "cell_type": "markdown",
      "source": [
        "#Avaliando o Modelo"
      ],
      "metadata": {
        "id": "x6vXOFhEIuxp"
      }
    },
    {
      "cell_type": "code",
      "source": [
        "y_predi = classifier.predict(x_test)\n",
        "\n",
        "print(y_test[0:35])\n",
        "print(y_predi[0:35])"
      ],
      "metadata": {
        "colab": {
          "base_uri": "https://localhost:8080/"
        },
        "id": "60fc1_mhIuhB",
        "outputId": "bd23c769-adc4-48b9-bb4c-9c5c3e7586d7"
      },
      "execution_count": 16,
      "outputs": [
        {
          "output_type": "stream",
          "name": "stdout",
          "text": [
            "[0 0 0 0 0 0 0 0 0 0 0 0 0 0 1 0 0 0 0 0 0 0 0 0 0 0 0 1 0 0 0 0 0 0 0]\n",
            "[[0.01278758]\n",
            " [0.01278758]\n",
            " [0.01278758]\n",
            " [0.01278758]\n",
            " [0.01278758]\n",
            " [0.01278758]\n",
            " [0.01278758]\n",
            " [0.01278758]\n",
            " [0.01278758]\n",
            " [0.01278758]\n",
            " [0.01278758]\n",
            " [0.01278758]\n",
            " [0.01278758]\n",
            " [0.01278758]\n",
            " [0.01278758]\n",
            " [0.01278758]\n",
            " [0.01278758]\n",
            " [0.01278758]\n",
            " [0.01278758]\n",
            " [0.01278758]\n",
            " [0.01278758]\n",
            " [0.01278758]\n",
            " [0.01278758]\n",
            " [0.01278758]\n",
            " [0.01278758]\n",
            " [0.01278758]\n",
            " [0.01278758]\n",
            " [0.01278758]\n",
            " [0.01278758]\n",
            " [0.01278758]\n",
            " [0.01278758]\n",
            " [0.01278758]\n",
            " [0.01278758]\n",
            " [0.01278758]\n",
            " [0.01278758]]\n"
          ]
        }
      ]
    },
    {
      "cell_type": "code",
      "source": [
        "y_pred_bin = [ ( 1 if elem > 0.5 else 0) for elem in y_predi ] "
      ],
      "metadata": {
        "id": "h2FOfzZdJCjo"
      },
      "execution_count": 17,
      "outputs": []
    },
    {
      "cell_type": "code",
      "source": [
        "import numpy as np\n",
        "\n",
        "y_pred_bin =  np.array(y_pred_bin)\n",
        "print(y_test[0:35])\n",
        "print(y_pred_bin[0:35])"
      ],
      "metadata": {
        "colab": {
          "base_uri": "https://localhost:8080/"
        },
        "id": "rnNlv4SYJFLQ",
        "outputId": "124b07ac-f0d0-458a-9ae2-6dbc4f6a6988"
      },
      "execution_count": 18,
      "outputs": [
        {
          "output_type": "stream",
          "name": "stdout",
          "text": [
            "[0 0 0 0 0 0 0 0 0 0 0 0 0 0 1 0 0 0 0 0 0 0 0 0 0 0 0 1 0 0 0 0 0 0 0]\n",
            "[0 0 0 0 0 0 0 0 0 0 0 0 0 0 0 0 0 0 0 0 0 0 0 0 0 0 0 0 0 0 0 0 0 0 0]\n"
          ]
        }
      ]
    },
    {
      "cell_type": "code",
      "source": [
        "from sklearn.metrics import accuracy_score\n",
        "\n",
        "print(\"O valor da acurácia: \", accuracy_score(y_test,y_pred_bin)*100, \"%\"  )"
      ],
      "metadata": {
        "colab": {
          "base_uri": "https://localhost:8080/"
        },
        "id": "GZ98vqfGJP3Z",
        "outputId": "0d17159c-2dce-4e64-c3de-424adb020b25"
      },
      "execution_count": 19,
      "outputs": [
        {
          "output_type": "stream",
          "name": "stdout",
          "text": [
            "O valor da acurácia:  98.51817452611137 %\n"
          ]
        }
      ]
    },
    {
      "cell_type": "markdown",
      "source": [
        "#Comparacao Matrix de Confusao\n",
        "## Regressão Logistica x MLP"
      ],
      "metadata": {
        "id": "VVEvVc-NZ9Bu"
      }
    },
    {
      "cell_type": "markdown",
      "source": [
        "Na proposta anterior foi gerada a seguinte matrix de confusao quando e utilizado a regressao logistica.\n",
        "\n",
        "![image.png](data:image/png;base64,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)\n",
        "\n",
        "Para efeito de comparacao utilizando agora MLP foi obtido a seguinte Matrix de Confusao."
      ],
      "metadata": {
        "id": "ovLQBpjsTLdc"
      }
    },
    {
      "cell_type": "code",
      "source": [
        "from sklearn.metrics import confusion_matrix, accuracy_score, classification_report\n",
        "\n",
        "import matplotlib.pyplot as plt\n",
        "import matplotlib.cm as cm\n",
        "import seaborn as sns\n",
        "cm = confusion_matrix(y_test, y_pred_bin)\n",
        "print(\"Matrix de confusão: \")\n",
        "plt.figure(figsize = (4,3))\n",
        "sns.heatmap(cm, annot=True, fmt='d',cmap='GnBu')\n",
        "plt.xlabel('Tor')\n",
        "plt.ylabel('No-Tor')\n",
        "plt.show()"
      ],
      "metadata": {
        "colab": {
          "base_uri": "https://localhost:8080/",
          "height": 242
        },
        "id": "GDCRdobIJYiQ",
        "outputId": "471fa562-aede-4667-f550-f56162ab8749"
      },
      "execution_count": 63,
      "outputs": [
        {
          "output_type": "stream",
          "name": "stdout",
          "text": [
            "Matrix de confusão: \n"
          ]
        },
        {
          "output_type": "display_data",
          "data": {
            "text/plain": [
              "<Figure size 288x216 with 2 Axes>"
            ],
            "image/png": "[encoded data removed]"
          },
          "metadata": {}
        }
      ]
    },
    {
      "cell_type": "markdown",
      "source": [
        "#Comparação relatório de classificação\n",
        "## Regressão Logística x MLP"
      ],
      "metadata": {
        "id": "OairKBgLaKIu"
      }
    },
    {
      "cell_type": "markdown",
      "source": [
        "Na proposta anterior foi gerado o seguinte relatório de classificação.\n",
        "\n",
        "![image.png](data:image/png;base64,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)\n",
        "\n",
        "\n",
        "Em comparação com a proposta desse trabalho foi gerado a seguinte informação.\n"
      ],
      "metadata": {
        "id": "2v9qbcH-Vi3b"
      }
    },
    {
      "cell_type": "code",
      "source": [
        "p_pred = classifier.predict(x_test)\n",
        "p_pred = p_pred.flatten()\n",
        "print(p_pred.round(2))\n",
        "y_pred = np.where(p_pred > 0.5, 1, 0)\n",
        "print(y_pred)\n",
        "\n",
        "print(classification_report(y_test, y_pred, zero_division=0))"
      ],
      "metadata": {
        "colab": {
          "base_uri": "https://localhost:8080/"
        },
        "id": "AByXVY6TVika",
        "outputId": "8632f2d2-bae9-44e5-ad8d-b59dc45d5dad"
      },
      "execution_count": 39,
      "outputs": [
        {
          "output_type": "stream",
          "name": "stdout",
          "text": [
            "[0.01 0.01 0.01 ... 0.01 0.01 0.01]\n",
            "[0 0 0 ... 0 0 0]\n",
            "              precision    recall  f1-score   support\n",
            "\n",
            "           0       0.99      1.00      0.99     23336\n",
            "           1       0.00      0.00      0.00       351\n",
            "\n",
            "    accuracy                           0.99     23687\n",
            "   macro avg       0.49      0.50      0.50     23687\n",
            "weighted avg       0.97      0.99      0.98     23687\n",
            "\n"
          ]
        }
      ]
    },
    {
      "cell_type": "markdown",
      "source": [
        "#Conjunto de Treinamento"
      ],
      "metadata": {
        "id": "yPJyCbExZ245"
      }
    },
    {
      "cell_type": "code",
      "source": [
        "tor_neg = x_train[y_train == 0, 0]\n",
        "notor_neg = x_train[y_train == 0, 1]\n",
        "tor_pos = x_train[y_train == 1, 0]\n",
        "notor_pos = x_train[y_train == 1, 1]\n",
        "\n",
        "plt.subplots(figsize=(10, 6))\n",
        "plt.scatter(tor_pos,notor_pos, color='green', label = 'Tor')\n",
        "plt.scatter(tor_neg,notor_neg, color='red', label = 'Não-Tor')\n",
        "\n",
        "plt.title('Conjunto de Treinamento')\n",
        "plt.xlabel('Tor')\n",
        "plt.ylabel('NoTor')\n",
        "plt.legend()\n",
        "plt.show()"
      ],
      "metadata": {
        "colab": {
          "base_uri": "https://localhost:8080/",
          "height": 404
        },
        "id": "_eAAfrbEKFiQ",
        "outputId": "22ec50c7-d58f-45cd-9577-f5738a17293b"
      },
      "execution_count": 21,
      "outputs": [
        {
          "output_type": "display_data",
          "data": {
            "text/plain": [
              "<Figure size 720x432 with 1 Axes>"
            ],
            "image/png": "[encoded data removed]"
          },
          "metadata": {
            "needs_background": "light"
          }
        }
      ]
    },
    {
      "cell_type": "markdown",
      "source": [
        "#Gráfico de Acurácia e Loss"
      ],
      "metadata": {
        "id": "_aeFWm-aLzS_"
      }
    },
    {
      "cell_type": "code",
      "source": [
        "plt.plot(history.history['accuracy'])  \n",
        "plt.plot(history.history['val_accuracy'])  \n",
        "plt.title('model accuracy')  \n",
        "plt.ylabel('accuracy')  \n",
        "plt.xlabel('epoch')  \n",
        "plt.legend(['train', 'val'], loc='upper left') "
      ],
      "metadata": {
        "colab": {
          "base_uri": "https://localhost:8080/",
          "height": 312
        },
        "id": "W4w2ni6xL1aO",
        "outputId": "e0149a85-9eaf-44b9-c370-0adaabed4ae2"
      },
      "execution_count": 22,
      "outputs": [
        {
          "output_type": "execute_result",
          "data": {
            "text/plain": [
              "<matplotlib.legend.Legend at 0x7f68f4153bd0>"
            ]
          },
          "metadata": {},
          "execution_count": 22
        },
        {
          "output_type": "display_data",
          "data": {
            "text/plain": [
              "<Figure size 432x288 with 1 Axes>"
            ],
            "image/png": "[encoded data removed]"
          },
          "metadata": {
            "needs_background": "light"
          }
        }
      ]
    },
    {
      "cell_type": "code",
      "source": [
        "plt.plot(history.history['loss'])  \n",
        "plt.plot(history.history['val_loss'])  \n",
        "plt.title('model loss')  \n",
        "plt.ylabel('loss')  \n",
        "plt.xlabel('epoch')  \n",
        "plt.legend(['train', 'val'], loc='upper right') "
      ],
      "metadata": {
        "colab": {
          "base_uri": "https://localhost:8080/",
          "height": 312
        },
        "id": "Ov87m4JYbqFw",
        "outputId": "d0eed0f8-8475-47a2-e13b-5ca3d425541e"
      },
      "execution_count": 23,
      "outputs": [
        {
          "output_type": "execute_result",
          "data": {
            "text/plain": [
              "<matplotlib.legend.Legend at 0x7f68e03bc690>"
            ]
          },
          "metadata": {},
          "execution_count": 23
        },
        {
          "output_type": "display_data",
          "data": {
            "text/plain": [
              "<Figure size 432x288 with 1 Axes>"
            ],
            "image/png": "[encoded data removed]"
          },
          "metadata": {
            "needs_background": "light"
          }
        }
      ]
    },
    {
      "cell_type": "markdown",
      "source": [
        ""
      ],
      "metadata": {
        "id": "j2zw2SlhiVrv"
      }
    },
    {
      "cell_type": "markdown",
      "metadata": {
        "id": "BBeFqx-1PJNd"
      },
      "source": [
        "# Referencias\n",
        "\n",
        "https://scikit-learn.org/stable/modules/generated/sklearn.linear_model.LogisticRegression.html\n",
        "\n",
        "https://bmcgenomics.biomedcentral.com/articles/10.1186/s12864-019-6413-7\n",
        "\n",
        "https://machinelearningmastery.com/calculate-feature-importance-with-python/\\\n",
        "\n",
        "[4] https://github.com/amodavis/Zero_Trust\n",
        "\n",
        "[5] https://csrc.nist.gov/publications/detail/sp/800-207/final"
      ]
    }
  ]
}